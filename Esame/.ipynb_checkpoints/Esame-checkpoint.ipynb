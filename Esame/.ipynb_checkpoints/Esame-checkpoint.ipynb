{
 "cells": [
  {
   "cell_type": "markdown",
   "metadata": {},
   "source": [
    "# Esame Data Science - a.a. 2023/2024\n",
    "\n",
    "Di seguitono sono proposti gli esercizi per la prova d'esame.\n",
    "Per presentarsi all'esame è necessario aver implementato una soluzione per tutti e 3 gli esercizi.\n",
    "\n",
    "1. [Esercizio Time Series](#esercizio1)\n",
    "2. [Esercizio Deep Learning](#esercizio2)\n",
    "3. [Esercizio Regressione Polinomiale](#esercizio3)"
   ]
  },
  {
   "cell_type": "markdown",
   "metadata": {},
   "source": [
    "<a id=\"esercizio1\"></a>\n",
    "## Esercizio Time Series"
   ]
  },
  {
   "cell_type": "markdown",
   "metadata": {},
   "source": [
    "Partiamo dai dati presi dal database Kaggle chiamato Hourly Energy Consumption. In esso sono contenuti dei dati, raccolti da PJM Interconnection, una società che coordina l'acquisto, la vendita e la consegna continua di elettricità all'ingrosso attraverso il mercato dell'energia dai fornitori ai clienti nella regione della Carolina del Sud, USA.\n",
    "\n",
    "Tutti i file .csv contengono righe con un timestamp e un valore. Il nome della colonna del valore corrisponde al nome del contraente. Il timestamp rappresenta una singola ora e il valore rappresenta l'energia totale, consumata durante quell'ora.\n",
    "\n",
    "https://www.kaggle.com/robikscube/hourly-energy-consumption"
   ]
  },
  {
   "cell_type": "markdown",
   "metadata": {},
   "source": [
    "Leggendo il dataset `data/PJME_hourly.csv`, caricare i dati del consumo elettrico. Plottare la serie dati, analizarne le caratteristiche (tendenza e stagionalità) e provare a fare una regressione lineare del trend (per valutarne la tendenza).\n",
    "\n",
    "Infine provare a usare ARIMA o Prophet per predire il consumo nei prossimi 240 periodi."
   ]
  },
  {
   "cell_type": "code",
   "execution_count": null,
   "metadata": {
    "scrolled": true
   },
   "outputs": [],
   "source": []
  },
  {
   "cell_type": "markdown",
   "metadata": {},
   "source": [
    "<a id=\"esercizio2\"></a>\n",
    "## Esercizio Rete Neurale"
   ]
  },
  {
   "cell_type": "markdown",
   "metadata": {},
   "source": [
    "Creare una rete neurale Deep Learning per predire se un paziende ha una malattia cardiaca o no. Utilizziamo i dati presenti nel dataset linkato qui: https://archive.ics.uci.edu/ml/datasets/Heart+Disease\n",
    "\n",
    "E disponibile nel file `data/heart.csv`, esploriamo il dataset e proviamo a creare una rete come descritto con Tensorflow o PyTorch."
   ]
  },
  {
   "cell_type": "code",
   "execution_count": null,
   "metadata": {},
   "outputs": [],
   "source": []
  },
  {
   "cell_type": "markdown",
   "metadata": {},
   "source": [
    "<a id=\"esercizio3\"></a>\n",
    "## Esercizio regressione"
   ]
  },
  {
   "cell_type": "markdown",
   "metadata": {},
   "source": [
    "Leggendo il dataset `data/position_salaries.csv` effettuare una regressione dei dati di salario in base al livello (espresso nella forma di anni di esperienza)."
   ]
  },
  {
   "cell_type": "code",
   "execution_count": null,
   "metadata": {
    "scrolled": true
   },
   "outputs": [],
   "source": []
  }
 ],
 "metadata": {
  "kernelspec": {
   "display_name": "Python 3 (ipykernel)",
   "language": "python",
   "name": "python3"
  },
  "language_info": {
   "codemirror_mode": {
    "name": "ipython",
    "version": 3
   },
   "file_extension": ".py",
   "mimetype": "text/x-python",
   "name": "python",
   "nbconvert_exporter": "python",
   "pygments_lexer": "ipython3",
   "version": "3.10.12"
  }
 },
 "nbformat": 4,
 "nbformat_minor": 2
}
