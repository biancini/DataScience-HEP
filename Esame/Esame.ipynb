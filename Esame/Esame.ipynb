{
 "cells": [
  {
   "cell_type": "markdown",
   "metadata": {},
   "source": [
    "# Esame Data Science - a.a. 2024/2025\n",
    "\n",
    "Di seguitono sono proposti gli esercizi per la prova d'esame.\n",
    "Per presentarsi all'esame è necessario aver implementato una soluzione per tutti i punti elencati.\n",
    "\n",
    "1. [Esercizio Time Series](#esercizio0)\n",
    "2. [Analisi descrittiva](#esercizio1)\n",
    "3. [Classificazione](#esercizio2)\n",
    "4. [Rete neurale custom](#esercizio3)"
   ]
  },
  {
   "cell_type": "markdown",
   "metadata": {},
   "source": [
    "<a id=\"esercizio0\"></a>\n",
    "## Esercizio Time Series"
   ]
  },
  {
   "cell_type": "markdown",
   "metadata": {},
   "source": [
    "Partiamo dai dati presi dal database Kaggle chiamato Hourly Energy Consumption. In esso sono contenuti dei dati, raccolti da PJM Interconnection, una società che coordina l'acquisto, la vendita e la consegna continua di elettricità all'ingrosso attraverso il mercato dell'energia dai fornitori ai clienti nella regione della Carolina del Sud, USA.\n",
    "\n",
    "Tutti i file .csv contengono righe con un timestamp e un valore. Il nome della colonna del valore corrisponde al nome del contraente. Il timestamp rappresenta una singola ora e il valore rappresenta l'energia totale, consumata durante quell'ora.\n",
    "\n",
    "https://www.kaggle.com/robikscube/hourly-energy-consumption"
   ]
  },
  {
   "cell_type": "markdown",
   "metadata": {},
   "source": [
    "Leggendo il dataset `data/PJME_hourly.csv`, caricare i dati del consumo elettrico. Plottare la serie dati, analizarne le caratteristiche (tendenza e stagionalità) e provare a fare una regressione lineare del trend (per valutarne la tendenza).\n",
    "\n",
    "Infine provare a usare ARIMA per predire il consumo nei prossimi 240 periodi."
   ]
  },
  {
   "cell_type": "code",
   "execution_count": null,
   "metadata": {
    "scrolled": true
   },
   "outputs": [],
   "source": []
  },
  {
   "cell_type": "markdown",
   "metadata": {},
   "source": [
    "<a id=\"esercizio1\"></a>\n",
    "## Analisi descrittiva"
   ]
  },
  {
   "cell_type": "markdown",
   "metadata": {},
   "source": [
    "Partendo dal dataset `data/german.data` effettuare una analisi descrittiva dei dati in esso contenuti.\n",
    "\n",
    "Il dataset contiene dei dati rispetto a crediti realizzati in Germania e ha 1000 record.\n",
    "Il dataset ha 20 attributi (7 numerici e 13 categorici) qui descritti:\n",
    "\n",
    "**Attributo 1: (qualitativo)**\n",
    "Stato del conto corrente esistente\n",
    "- A11 : ... < 0 DM\n",
    "- A12 : 0 <= ... < 200 DM\n",
    "- A13 : ... >= 200 DM / assegnazioni di stipendio per almeno 1 anno\n",
    "- A14 : nessun conto corrente\n",
    "\n",
    "**Attributo 2: (numerico)**\n",
    "Durata in mesi\n",
    "\n",
    "**Attributo 3: (qualitativo)**\n",
    "Storia del credito\n",
    "- A30 : nessun credito preso/tutti i crediti rimborsati debitamente\n",
    "- A31 : tutti i crediti presso questa banca rimborsati debitamente\n",
    "- A32 : crediti esistenti regolarmente rimborsati fino ad ora\n",
    "- A33 : ritardo nel pagamento in passato\n",
    "- A34 : conto critico/ altri crediti esistenti (non presso questa banca)\n",
    "\n",
    "**Attributo 4: (qualitativo)**\n",
    "Scopo della richiesta di creidto\n",
    "- A40 : auto (nuova)\n",
    "- A41 : auto (usata)\n",
    "- A42 : mobili/attrezzature\n",
    "- A43 : radio/televisione\n",
    "- A44 : elettrodomestici\n",
    "- A45 : riparazioni\n",
    "- A46 : educazione\n",
    "- A47 : (vacanze - non esiste?)\n",
    "- A48 : riqualificazione\n",
    "- A49 : affari\n",
    "- A410 : altri\n",
    "\n",
    "**Attributo 5: (numerico)**\n",
    "Ammontare del credito\n",
    "\n",
    "**Attributo 6: (qualitativo)**\n",
    "Conto di risparmio/obbligazioni\n",
    "- R61 : ... < 100 Marchi\n",
    "- A62 : 100 <= ... < 500 DM\n",
    "- A63 : 500 <= ... < 1000 DM\n",
    "- A64 : .. >= 1000 DM\n",
    "- A65 : sconosciuto/ nessun conto di risparmio\n",
    "\n",
    "**Attributo 7: (qualitativo)**\n",
    "Occupazione attuale\n",
    "- A71: disoccupato\n",
    "- R72 : ... < 1 anno\n",
    "- A73 : 1 <= ... < 4 anni\n",
    "- A74 : 4 <= ... < 7 anni\n",
    "- A75 : .. >= 7 anni\n",
    "\n",
    "**Attributo 8: (numerico)**\n",
    "Tasso di rata in percentuale del reddito disponibile\n",
    "\n",
    "**Attributo 9: (qualitativo)**\n",
    "Stato personale e sesso\n",
    "- A91 : maschio : divorziato/separato\n",
    "- A92 : femmina : divorziata/separata/sposata\n",
    "- A93 : maschio : singolo\n",
    "- A94 : maschio : sposato/vedovo\n",
    "- A95 : femmina : single\n",
    "\n",
    "**Attributo 10: (qualitativo)**\n",
    "Altri debitori/garanti\n",
    "- A101 : nessuno\n",
    "- A102 : co-candidato\n",
    "- A103 : garante\n",
    "\n",
    "**Attributo 11: (numerico)**\n",
    "Attuale residenza da allora\n",
    "\n",
    "**Attributo 12: (qualitativo)**\n",
    "Proprietà\n",
    "- A121 : immobiliare\n",
    "- A122 : se non A121 : contratto di risparmio della società di costruzione/ assicurazione sulla vita\n",
    "- A123 : se non A121/A122 : automobile o altro, non nell'attributo 6\n",
    "- A124 : sconosciuto / nessuna proprietà\n",
    "\n",
    "**Attributo 13: (numerico)**\n",
    "Età in anni\n",
    "\n",
    "**Attributo 14: (qualitativo)**\n",
    "Altri piani di rateizzazione\n",
    "- A141 : banca\n",
    "- A142 : negozi\n",
    "- A143 : nessuno\n",
    "\n",
    "**Attributo 15: (qualitativo)**\n",
    "Abitazione\n",
    "- A151 : affitto\n",
    "- A152 : proprio\n",
    "- A153 : gratis\n",
    "\n",
    "**Attributo 16: (numerico)**\n",
    "Numero di crediti esistenti presso questa banca\n",
    "\n",
    "**Attributo 17: (qualitativo)**\n",
    "Lavoro\n",
    "- A171 : disoccupato/non qualificato - non residente\n",
    "- A172 : non qualificato - residente\n",
    "- A173 : impiegato/funzionario qualificato\n",
    "- A174 : dirigente/ lavoratore autonomo/ impiegato/funzionario altamente qualificato\n",
    "\n",
    "**Attributo 18: (numerico)**\n",
    "Numero di persone tenute a provvedere al mantenimento\n",
    "\n",
    "**Attributo 19: (qualitativo)**\n",
    "Telefono\n",
    "- A191 : nessuno\n",
    "- A192 : sì, registrato a nome del cliente\n",
    "\n",
    "**Attributo 20: (qualitativo)**\n",
    "lavoratore straniero\n",
    "- A201 : sì\n",
    "- A202 : no\n",
    "\n",
    "**Attributo 21: (label)**\n",
    "Classificazione del credito\n",
    "- 1 : buono\n",
    "- 2 : cattivo"
   ]
  },
  {
   "cell_type": "markdown",
   "metadata": {},
   "source": [
    "Si richiede di leggere il dataset, verificare la pulizia e completezza dei dati e quindi effettuare le analisi descrittive necessarie a meglio comprendere il contenuto del file di dati."
   ]
  },
  {
   "cell_type": "code",
   "execution_count": null,
   "metadata": {},
   "outputs": [],
   "source": []
  },
  {
   "cell_type": "markdown",
   "metadata": {},
   "source": [
    "<a id=\"esercizio2\"></a>\n",
    "## Classificazione"
   ]
  },
  {
   "cell_type": "markdown",
   "metadata": {},
   "source": [
    "Partendo dal dataset precedentemente analizzato e ripulito, in questa parte d'esercizio vi viene richiesto di eseguire una clasificazione del dataset.\n",
    "\n",
    "L'ultima colonna (**Attributo 21**) contiene la label che il modello deve imparare ad apprendere.\n",
    "\n",
    "Viene richiesto di utilizzare diversi modelli di clusterizzazione, praparare i dati e le feature per il loro utilizzo e quindi effettuare la previsione. Viene chiesto di valutare la bontà della previsione del modello e di commentare la sua capacità di apprendimento.\n",
    "\n",
    "Avendo utilizzato diversi modelli, viene inoltre richiesto di confrontare i risultati dei diversi modelli utilizzati e di commentare quale sia, a vostro giudizio, il modello preferibile."
   ]
  },
  {
   "cell_type": "code",
   "execution_count": null,
   "metadata": {},
   "outputs": [],
   "source": []
  },
  {
   "cell_type": "markdown",
   "metadata": {},
   "source": [
    "<a id=\"esercizio3\"></a>\n",
    "## Rete neurale custom"
   ]
  },
  {
   "cell_type": "markdown",
   "metadata": {},
   "source": [
    "Si richiede di provare a careare una rete neurale con Tensorflow o PyTorch che apprenda a effettuare la clusterizzazione realizata nel punto precedente.\n",
    "\n",
    "Commentare l'apprendiamento realizzato dalla rete e la qualità dei risultati della sua classificazione. Confrontare quindi i risultati della classificazione realizzata con questa rete custom con quelli ottenuti dai modelli descritti nel punto precedente."
   ]
  },
  {
   "cell_type": "code",
   "execution_count": null,
   "metadata": {},
   "outputs": [],
   "source": []
  }
 ],
 "metadata": {
  "kernelspec": {
   "display_name": "Python 3 (ipykernel)",
   "language": "python",
   "name": "python3"
  },
  "language_info": {
   "codemirror_mode": {
    "name": "ipython",
    "version": 3
   },
   "file_extension": ".py",
   "mimetype": "text/x-python",
   "name": "python",
   "nbconvert_exporter": "python",
   "pygments_lexer": "ipython3",
   "version": "3.10.12"
  },
  "nbTranslate": {
   "displayLangs": [
    "*"
   ],
   "hotkey": "alt-t",
   "langInMainMenu": true,
   "sourceLang": "en",
   "targetLang": "fr",
   "useGoogleTranslate": true
  }
 },
 "nbformat": 4,
 "nbformat_minor": 2
}
