{
 "cells": [
  {
   "cell_type": "markdown",
   "metadata": {},
   "source": [
    "# Lezione 0\n",
    "\n",
    "#### In questo primo notebook introdurremo i concetti fondamentali per iniziare ad usare jupyter e Python ai fini del calcolo scientifico.\n",
    "\n",
    "Il notebook è così suddiviso: <br>\n",
    "1) [Hello, Python](#section1)<a href='#section1'></a> <br>\n",
    "2) [Le funzioni](#section2)<a href='#section2'></a><br>\n",
    "3) [Booleans & Condizioni](#section3)<a href='#section3'></a> <br>\n",
    "4) [Le liste](#section4)<a href='#section4'></a> <br>\n",
    "5) [Loops](#section5)<a href='#section5'></a><br>\n",
    "6) [I dizionari](#section6)<a href='#section6'></a><br>\n",
    "7) [Le librerie esterne](#section7)<a href='#section7'></a>\n",
    "\n"
   ]
  },
  {
   "cell_type": "markdown",
   "metadata": {},
   "source": [
    "<a id='section1'></a>\n",
    "## 1) Hello, Python!"
   ]
  },
  {
   "cell_type": "markdown",
   "metadata": {},
   "source": [
    "Python è un linguaggio interpretato, ovvero a differenza di C++ (che è un linguaggio compilato), esegue il codice riga-per-riga, mentre C++ compila il codice e successivamente lo esegue.  <br>\n",
    "Il vantaggio dei linguaggi di programmazione \"interpretati\" è che sono più facili \"da leggere\", ma più lenti in esecuzione rispetto ad un linguaggio compilato. <br>\n",
    "Python utilizza molte librerie, scritte in codice nativo, che permettono di avere prestazioni paragonabili a quelle dei linguaggi compilati.<br>\n",
    "<br>\n",
    "Ecco un esempio di programma python. "
   ]
  },
  {
   "cell_type": "code",
   "execution_count": 1,
   "metadata": {
    "tags": []
   },
   "outputs": [
    {
     "name": "stdout",
     "output_type": "stream",
     "text": [
      "Ho 6 pere\n",
      "Esempio finito.\n"
     ]
    }
   ],
   "source": [
    "# Importo la libreria random \n",
    "# Servirà per generare numeri casuali\n",
    "import random as rd\n",
    "\n",
    "pere = 0\n",
    "\n",
    "# Genero un numero casuale tra 0 e 10\n",
    "Pere_comprate = rd.randint(0, 10) \n",
    "Pere_totali = pere + Pere_comprate\n",
    "\n",
    "if Pere_totali > 0:\n",
    "    print(\"Ho\", Pere_totali, \"pere\")\n",
    "else:\n",
    "    print(\"Non ho nessuna pera.\")\n",
    "\n",
    "print(\"Esempio finito.\")"
   ]
  },
  {
   "cell_type": "markdown",
   "metadata": {},
   "source": [
    "Vediamo ora qualche aspetto del linguaggio:"
   ]
  },
  {
   "cell_type": "code",
   "execution_count": 2,
   "metadata": {},
   "outputs": [],
   "source": [
    "pere = 0"
   ]
  },
  {
   "cell_type": "markdown",
   "metadata": {},
   "source": [
    "In python le variaibli vengono create senza dover definire il loro tipo.\n",
    "Per conoscere l'effettiva tipologia delle variabili che usiamo in Python possiamo usare la funzione **type**:"
   ]
  },
  {
   "cell_type": "code",
   "execution_count": 3,
   "metadata": {},
   "outputs": [
    {
     "data": {
      "text/plain": [
       "int"
      ]
     },
     "execution_count": 3,
     "metadata": {},
     "output_type": "execute_result"
    }
   ],
   "source": [
    "type(0)"
   ]
  },
  {
   "cell_type": "code",
   "execution_count": 4,
   "metadata": {},
   "outputs": [
    {
     "data": {
      "text/plain": [
       "float"
      ]
     },
     "execution_count": 4,
     "metadata": {},
     "output_type": "execute_result"
    }
   ],
   "source": [
    "type(2.5)"
   ]
  },
  {
   "cell_type": "markdown",
   "metadata": {},
   "source": [
    "Di seguito mostriamo le operazioni aritmetiche che possono essere fatte in Python:"
   ]
  },
  {
   "cell_type": "markdown",
   "metadata": {},
   "source": [
    "<img src=\"img/operators in Python.jpg\">"
   ]
  },
  {
   "cell_type": "markdown",
   "metadata": {},
   "source": [
    "<a id='section2'></a>\n",
    "## 2) Le funzioni"
   ]
  },
  {
   "cell_type": "markdown",
   "metadata": {},
   "source": [
    "Una delle funzioni più utili è **help()**, infatti grazie a questa funzione è possibile capire qualsiasi altra funzione che si può usare in Python."
   ]
  },
  {
   "cell_type": "code",
   "execution_count": 5,
   "metadata": {},
   "outputs": [
    {
     "data": {
      "text/plain": [
       "<function abs(x, /)>"
      ]
     },
     "execution_count": 5,
     "metadata": {},
     "output_type": "execute_result"
    }
   ],
   "source": [
    "abs"
   ]
  },
  {
   "cell_type": "markdown",
   "metadata": {},
   "source": [
    "La funzione help() mostra: <br>\n",
    "- L'intestazione della funzione, indicando quanti/quali argomenti prende in input la funzione;\n",
    "- Una breve descrizione di ciò che fa la funzione. <br>"
   ]
  },
  {
   "cell_type": "code",
   "execution_count": 6,
   "metadata": {
    "tags": []
   },
   "outputs": [
    {
     "name": "stdout",
     "output_type": "stream",
     "text": [
      "Help on built-in function print in module builtins:\n",
      "\n",
      "print(...)\n",
      "    print(value, ..., sep=' ', end='\\n', file=sys.stdout, flush=False)\n",
      "    \n",
      "    Prints the values to a stream, or to sys.stdout by default.\n",
      "    Optional keyword arguments:\n",
      "    file:  a file-like object (stream); defaults to the current sys.stdout.\n",
      "    sep:   string inserted between values, default a space.\n",
      "    end:   string appended after the last value, default a newline.\n",
      "    flush: whether to forcibly flush the stream.\n",
      "\n"
     ]
    }
   ],
   "source": [
    "help(print)"
   ]
  },
  {
   "cell_type": "markdown",
   "metadata": {},
   "source": [
    "Ovviamente in Python è possibile definire funzioni personalizzate oltreché usare le funzioni già preimpostate."
   ]
  },
  {
   "cell_type": "code",
   "execution_count": 7,
   "metadata": {},
   "outputs": [],
   "source": [
    "def min_delta(a, b, c):\n",
    "    \"\"\" La funzione determina la più piccola differenza tra due numeri, \n",
    "    utilizzando a, b e c.\n",
    "    \n",
    "    >>> min_delta(1, 5, -5)\n",
    "    4\n",
    "    \"\"\"\n",
    "    \n",
    "    delta_1 = abs(a-b)\n",
    "    delta_2 = abs(b-c)\n",
    "    delta_3 = abs(a-c)\n",
    "    return min(delta_1, delta_2, delta_3)\n"
   ]
  },
  {
   "cell_type": "code",
   "execution_count": 8,
   "metadata": {
    "tags": []
   },
   "outputs": [
    {
     "name": "stdout",
     "output_type": "stream",
     "text": [
      "Help on function min_delta in module __main__:\n",
      "\n",
      "min_delta(a, b, c)\n",
      "    La funzione determina la più piccola differenza tra due numeri, \n",
      "    utilizzando a, b e c.\n",
      "    \n",
      "    >>> min_delta(1, 5, -5)\n",
      "    4\n",
      "\n"
     ]
    }
   ],
   "source": [
    "help(min_delta)"
   ]
  },
  {
   "cell_type": "markdown",
   "metadata": {},
   "source": [
    "<a id='section3'></a>\n",
    "## 3) Booleans & Condizioni"
   ]
  },
  {
   "cell_type": "markdown",
   "metadata": {},
   "source": [
    "I principali operatori che danno come risposta True/False sono i seguenti:"
   ]
  },
  {
   "cell_type": "markdown",
   "metadata": {},
   "source": [
    "<img src=\"img/comparison_operations.jpg\">"
   ]
  },
  {
   "cell_type": "markdown",
   "metadata": {},
   "source": [
    "<a id='section4'></a>\n",
    "## 4) Le liste"
   ]
  },
  {
   "cell_type": "markdown",
   "metadata": {},
   "source": [
    "Le liste in Python sono una sequenza ordinati di valori e sono definite attraverso valori separati da una virgola e contenuti in parentesi quadre."
   ]
  },
  {
   "cell_type": "code",
   "execution_count": 9,
   "metadata": {},
   "outputs": [],
   "source": [
    "Numeri_primi = [1, 2, 3, 5, 7]"
   ]
  },
  {
   "cell_type": "code",
   "execution_count": 10,
   "metadata": {},
   "outputs": [
    {
     "data": {
      "text/plain": [
       "list"
      ]
     },
     "execution_count": 10,
     "metadata": {},
     "output_type": "execute_result"
    }
   ],
   "source": [
    "type(Numeri_primi)"
   ]
  },
  {
   "cell_type": "code",
   "execution_count": 11,
   "metadata": {},
   "outputs": [],
   "source": [
    "Pianeti = ['Mercurio', 'Venere', 'Terra', 'Marte',\\\n",
    "           'Giove', 'Saturno', 'Urano', 'Nettuno']"
   ]
  },
  {
   "cell_type": "code",
   "execution_count": 12,
   "metadata": {},
   "outputs": [
    {
     "data": {
      "text/plain": [
       "['Mercurio',\n",
       " 'Venere',\n",
       " 'Terra',\n",
       " 'Marte',\n",
       " 'Giove',\n",
       " 'Saturno',\n",
       " 'Urano',\n",
       " 'Nettuno']"
      ]
     },
     "execution_count": 12,
     "metadata": {},
     "output_type": "execute_result"
    }
   ],
   "source": [
    "Pianeti"
   ]
  },
  {
   "cell_type": "markdown",
   "metadata": {},
   "source": [
    "Una lista può contenere altre liste, ad esempio:"
   ]
  },
  {
   "cell_type": "code",
   "execution_count": 13,
   "metadata": {},
   "outputs": [],
   "source": [
    "Carte = [['J', 'Q', 'K'], ['2', '4', '8'], ['6', 'A', 'K']]\n",
    "\n",
    "# Per una lettura migliore è possibile anche scrivere nel seguente modo:\n",
    "Carte = [\n",
    "    ['J', 'Q', 'K'], \n",
    "    ['2', '4', '8'], \n",
    "    ['6', 'A', 'K']\n",
    "]"
   ]
  },
  {
   "cell_type": "markdown",
   "metadata": {},
   "source": [
    "Una lista può contenere un mix di elementi di tipo diverso:"
   ]
  },
  {
   "cell_type": "code",
   "execution_count": 14,
   "metadata": {},
   "outputs": [],
   "source": [
    "Elementi_preferiti = [27, 'Moto']"
   ]
  },
  {
   "cell_type": "markdown",
   "metadata": {},
   "source": [
    "È possibile accedere agli elementi di una lista di Python attraverso l'indicizzazione tramite parentesi quadre. <br>\n",
    "Ad esempio, qual è il pianeta più vicino al sole?"
   ]
  },
  {
   "cell_type": "code",
   "execution_count": 15,
   "metadata": {},
   "outputs": [
    {
     "data": {
      "text/plain": [
       "'Mercurio'"
      ]
     },
     "execution_count": 15,
     "metadata": {},
     "output_type": "execute_result"
    }
   ],
   "source": [
    "Pianeti[0]"
   ]
  },
  {
   "cell_type": "markdown",
   "metadata": {},
   "source": [
    "Qual è il pianeta più lontano dal sole? <br>\n",
    "*Gli elementi alla fine di una lista possono essere identificati attraverso i numeri negativi, partendo da -1.*"
   ]
  },
  {
   "cell_type": "code",
   "execution_count": 16,
   "metadata": {},
   "outputs": [
    {
     "data": {
      "text/plain": [
       "'Nettuno'"
      ]
     },
     "execution_count": 16,
     "metadata": {},
     "output_type": "execute_result"
    }
   ],
   "source": [
    "Pianeti[-1]"
   ]
  },
  {
   "cell_type": "code",
   "execution_count": 17,
   "metadata": {},
   "outputs": [
    {
     "data": {
      "text/plain": [
       "'Urano'"
      ]
     },
     "execution_count": 17,
     "metadata": {},
     "output_type": "execute_result"
    }
   ],
   "source": [
    "Pianeti[-2]"
   ]
  },
  {
   "cell_type": "markdown",
   "metadata": {},
   "source": [
    "Quali sono i primi tre pianeti più vicini al sole? <br>\n",
    "*Rispondiamo a questa domanda utilizzando lo **slicing***"
   ]
  },
  {
   "cell_type": "code",
   "execution_count": 18,
   "metadata": {},
   "outputs": [
    {
     "data": {
      "text/plain": [
       "['Mercurio', 'Venere', 'Terra']"
      ]
     },
     "execution_count": 18,
     "metadata": {},
     "output_type": "execute_result"
    }
   ],
   "source": [
    "Pianeti[0:3]"
   ]
  },
  {
   "cell_type": "markdown",
   "metadata": {},
   "source": [
    "La notazione vista sopra \"[0:3]\" ci dice di partire da 0 e continuare fino all'indice **3, escluso**."
   ]
  },
  {
   "cell_type": "markdown",
   "metadata": {},
   "source": [
    "Non è necessario indicare l'inizio e la fine dell'indicizzazione qualora si volesse partire/finire con il primo/ultimo elemento di una lista."
   ]
  },
  {
   "cell_type": "code",
   "execution_count": 19,
   "metadata": {},
   "outputs": [
    {
     "data": {
      "text/plain": [
       "['Mercurio', 'Venere', 'Terra']"
      ]
     },
     "execution_count": 19,
     "metadata": {},
     "output_type": "execute_result"
    }
   ],
   "source": [
    "Pianeti[:3]"
   ]
  },
  {
   "cell_type": "code",
   "execution_count": 20,
   "metadata": {},
   "outputs": [
    {
     "data": {
      "text/plain": [
       "['Marte', 'Giove', 'Saturno', 'Urano', 'Nettuno']"
      ]
     },
     "execution_count": 20,
     "metadata": {},
     "output_type": "execute_result"
    }
   ],
   "source": [
    "Pianeti[3:] # Dal terzo pianeta in poi"
   ]
  },
  {
   "cell_type": "code",
   "execution_count": 21,
   "metadata": {},
   "outputs": [
    {
     "data": {
      "text/plain": [
       "['Saturno', 'Urano', 'Nettuno']"
      ]
     },
     "execution_count": 21,
     "metadata": {},
     "output_type": "execute_result"
    }
   ],
   "source": [
    "Pianeti[-3:] # Gli ultimi 3 pianeti"
   ]
  },
  {
   "cell_type": "code",
   "execution_count": 22,
   "metadata": {},
   "outputs": [
    {
     "data": {
      "text/plain": [
       "['Mercurio',\n",
       " 'Venere',\n",
       " 'Terra',\n",
       " 'Pianeta X',\n",
       " 'Giove',\n",
       " 'Saturno',\n",
       " 'Urano',\n",
       " 'Nettuno']"
      ]
     },
     "execution_count": 22,
     "metadata": {},
     "output_type": "execute_result"
    }
   ],
   "source": [
    "Pianeti[3] = \"Pianeta X\"\n",
    "Pianeti"
   ]
  },
  {
   "cell_type": "code",
   "execution_count": 23,
   "metadata": {},
   "outputs": [
    {
     "data": {
      "text/plain": [
       "['A', 'B', 'C', 'Pianeta X', 'Giove', 'Saturno', 'Urano', 'Nettuno']"
      ]
     },
     "execution_count": 23,
     "metadata": {},
     "output_type": "execute_result"
    }
   ],
   "source": [
    "Pianeti[:3] = ['A', 'B', 'C']\n",
    "Pianeti"
   ]
  },
  {
   "cell_type": "markdown",
   "metadata": {},
   "source": [
    "Python ha differenti funzioni che possono essere usate con le liste: <br>\n",
    "- **len**: permette di calcolare la lunghezza di una lista; <br>\n",
    "- **sorted**: dà come risultato la lista ordinata; <br>\n",
    "- **sum**: somma gli elementi di una lista."
   ]
  },
  {
   "cell_type": "code",
   "execution_count": 24,
   "metadata": {},
   "outputs": [
    {
     "data": {
      "text/plain": [
       "8"
      ]
     },
     "execution_count": 24,
     "metadata": {},
     "output_type": "execute_result"
    }
   ],
   "source": [
    "len(Pianeti)"
   ]
  },
  {
   "cell_type": "code",
   "execution_count": 25,
   "metadata": {},
   "outputs": [
    {
     "data": {
      "text/plain": [
       "['Giove',\n",
       " 'Marte',\n",
       " 'Mercurio',\n",
       " 'Nettuno',\n",
       " 'Saturno',\n",
       " 'Terra',\n",
       " 'Urano',\n",
       " 'Venere']"
      ]
     },
     "execution_count": 25,
     "metadata": {},
     "output_type": "execute_result"
    }
   ],
   "source": [
    "Pianeti = ['Mercurio', 'Venere', 'Terra', 'Marte',\\\n",
    "           'Giove', 'Saturno', 'Urano', 'Nettuno']\n",
    "sorted(Pianeti)"
   ]
  },
  {
   "cell_type": "code",
   "execution_count": 26,
   "metadata": {},
   "outputs": [
    {
     "data": {
      "text/plain": [
       "18"
      ]
     },
     "execution_count": 26,
     "metadata": {},
     "output_type": "execute_result"
    }
   ],
   "source": [
    "sum(Numeri_primi)"
   ]
  },
  {
   "cell_type": "markdown",
   "metadata": {},
   "source": [
    "Gli oggetti in Python portano con se degli elementi: <br>\n",
    "- I **metodi**: funzioni che possono essere eseguite partendo da un oggetto;<br>\n",
    "- Gli **attributi**: elementi che sono collegati ad un oggetto ma non sono funzioni."
   ]
  },
  {
   "cell_type": "markdown",
   "metadata": {},
   "source": [
    "Un esempio di **metodo** può essere **bit_length**; ovvero un metodo che è associato ai numeri e indica i bit usati da un numero:"
   ]
  },
  {
   "cell_type": "code",
   "execution_count": 27,
   "metadata": {},
   "outputs": [
    {
     "data": {
      "text/plain": [
       "4"
      ]
     },
     "execution_count": 27,
     "metadata": {},
     "output_type": "execute_result"
    }
   ],
   "source": [
    "x = 12\n",
    "x.bit_length()"
   ]
  },
  {
   "cell_type": "markdown",
   "metadata": {},
   "source": [
    "Possiamo usare l'help di Python anche per capire cosa fa un metodo di un oggetto di Python."
   ]
  },
  {
   "cell_type": "code",
   "execution_count": 28,
   "metadata": {
    "tags": []
   },
   "outputs": [
    {
     "name": "stdout",
     "output_type": "stream",
     "text": [
      "Help on built-in function bit_length:\n",
      "\n",
      "bit_length() method of builtins.int instance\n",
      "    Number of bits necessary to represent self in binary.\n",
      "    \n",
      "    >>> bin(37)\n",
      "    '0b100101'\n",
      "    >>> (37).bit_length()\n",
      "    6\n",
      "\n"
     ]
    }
   ],
   "source": [
    "help(x.bit_length)"
   ]
  },
  {
   "cell_type": "markdown",
   "metadata": {},
   "source": [
    "I **metodi ** più utilizzati quando si usano le liste di Python, sono i seguenti: <br>\n",
    "- **.append** : permette di modificare una lista aggiungendo un elemento in fondo alla lista; <br>\n",
    "- **.pop** : rimuove e stampa l'ultimo elemento di una lista; <br>\n",
    "- **.index** : Indica l'indice in cui si trova un determinato elemento all'interno della lista. <br>\n",
    "Di seguito ci sono un pò di esempi. <br>\n",
    "<br>\n",
    "Per osservare tutti i metodi associati ad un oggetto è possibile fare: **help(*nome_oggetto*)**"
   ]
  },
  {
   "cell_type": "code",
   "execution_count": 29,
   "metadata": {},
   "outputs": [],
   "source": [
    "Pianeti.append('Plutone')"
   ]
  },
  {
   "cell_type": "code",
   "execution_count": 30,
   "metadata": {},
   "outputs": [
    {
     "data": {
      "text/plain": [
       "['Mercurio',\n",
       " 'Venere',\n",
       " 'Terra',\n",
       " 'Marte',\n",
       " 'Giove',\n",
       " 'Saturno',\n",
       " 'Urano',\n",
       " 'Nettuno',\n",
       " 'Plutone']"
      ]
     },
     "execution_count": 30,
     "metadata": {},
     "output_type": "execute_result"
    }
   ],
   "source": [
    "Pianeti"
   ]
  },
  {
   "cell_type": "markdown",
   "metadata": {},
   "source": [
    "<a id='section5'></a>\n",
    "## 5) Loops"
   ]
  },
  {
   "cell_type": "code",
   "execution_count": 31,
   "metadata": {},
   "outputs": [
    {
     "data": {
      "text/plain": [
       "['Mercurio',\n",
       " 'Venere',\n",
       " 'Terra',\n",
       " 'Marte',\n",
       " 'Giove',\n",
       " 'Saturno',\n",
       " 'Urano',\n",
       " 'Nettuno',\n",
       " 'Plutone']"
      ]
     },
     "execution_count": 31,
     "metadata": {},
     "output_type": "execute_result"
    }
   ],
   "source": [
    "Pianeti"
   ]
  },
  {
   "cell_type": "code",
   "execution_count": 32,
   "metadata": {
    "tags": []
   },
   "outputs": [
    {
     "name": "stdout",
     "output_type": "stream",
     "text": [
      "Mercurio Venere Terra Marte Giove Saturno Urano Nettuno Plutone "
     ]
    }
   ],
   "source": [
    "# Stampo tutti i pianeti sulla stessa linea\n",
    "for i in Pianeti:\n",
    "    print(i, end=' ') \n"
   ]
  },
  {
   "cell_type": "markdown",
   "metadata": {},
   "source": [
    "<a id='section6'></a>\n",
    "## 6) I dizionari"
   ]
  },
  {
   "cell_type": "markdown",
   "metadata": {},
   "source": [
    "I dizionari sono delle strutture pre impostate di Python che permettono di mappare dei valori su delle chiavi. Ad esempio:"
   ]
  },
  {
   "cell_type": "code",
   "execution_count": 33,
   "metadata": {},
   "outputs": [],
   "source": [
    "numeri = {'uno': 1, 'due': 2, 'tre': 3}"
   ]
  },
  {
   "cell_type": "markdown",
   "metadata": {},
   "source": [
    "In questo caso 'uno', 'due' e 'tre' sono le **chiavi**, mentre 1, 2 e 3 sono i loro corrispondenti **valori**. <br>\n",
    "È possibile accedere ai valori attraverso l'utilizzo delle parentesi quadre come si fa con le liste e con le stringhe."
   ]
  },
  {
   "cell_type": "code",
   "execution_count": 34,
   "metadata": {},
   "outputs": [
    {
     "data": {
      "text/plain": [
       "1"
      ]
     },
     "execution_count": 34,
     "metadata": {},
     "output_type": "execute_result"
    }
   ],
   "source": [
    "numeri['uno']"
   ]
  },
  {
   "cell_type": "markdown",
   "metadata": {},
   "source": [
    "È possibile aggiungere dei nuovi valori al dizionario, identificando semplicemente una nuova chiave, ad esempio:"
   ]
  },
  {
   "cell_type": "code",
   "execution_count": 35,
   "metadata": {},
   "outputs": [
    {
     "data": {
      "text/plain": [
       "{'uno': 1, 'due': 2, 'tre': 3, 'quattro': 4}"
      ]
     },
     "execution_count": 35,
     "metadata": {},
     "output_type": "execute_result"
    }
   ],
   "source": [
    "numeri['quattro'] = 4\n",
    "numeri"
   ]
  },
  {
   "cell_type": "markdown",
   "metadata": {},
   "source": [
    "È possibile anche cambiare un valore associato ad una chiave già esistente:"
   ]
  },
  {
   "cell_type": "code",
   "execution_count": 36,
   "metadata": {},
   "outputs": [
    {
     "data": {
      "text/plain": [
       "{'uno': 0, 'due': 2, 'tre': 3, 'quattro': 4}"
      ]
     },
     "execution_count": 36,
     "metadata": {},
     "output_type": "execute_result"
    }
   ],
   "source": [
    "numeri['uno'] = 0\n",
    "numeri"
   ]
  },
  {
   "cell_type": "markdown",
   "metadata": {},
   "source": [
    "La sintassi usata per i dizionari è molto simile a quella vista per le liste."
   ]
  },
  {
   "cell_type": "code",
   "execution_count": 37,
   "metadata": {},
   "outputs": [
    {
     "data": {
      "text/plain": [
       "{'Mercurio': 'M',\n",
       " 'Venere': 'V',\n",
       " 'Terra': 'T',\n",
       " 'Marte': 'M',\n",
       " 'Giove': 'G',\n",
       " 'Saturno': 'S',\n",
       " 'Urano': 'U',\n",
       " 'Nettuno': 'N',\n",
       " 'Plutone': 'P'}"
      ]
     },
     "execution_count": 37,
     "metadata": {},
     "output_type": "execute_result"
    }
   ],
   "source": [
    "pianeta_iniziale = {pianeta: pianeta[0] for pianeta in Pianeti}\n",
    "pianeta_iniziale"
   ]
  },
  {
   "cell_type": "markdown",
   "metadata": {},
   "source": [
    "L'operatore **in** può essere usato per capire se un elemento si trova dentro un dizionario."
   ]
  },
  {
   "cell_type": "code",
   "execution_count": 38,
   "metadata": {},
   "outputs": [
    {
     "data": {
      "text/plain": [
       "True"
      ]
     },
     "execution_count": 38,
     "metadata": {},
     "output_type": "execute_result"
    }
   ],
   "source": [
    "'Saturno' in Pianeti"
   ]
  },
  {
   "cell_type": "code",
   "execution_count": 39,
   "metadata": {},
   "outputs": [
    {
     "data": {
      "text/plain": [
       "False"
      ]
     },
     "execution_count": 39,
     "metadata": {},
     "output_type": "execute_result"
    }
   ],
   "source": [
    "'Pianeta X' in Pianeti"
   ]
  },
  {
   "cell_type": "markdown",
   "metadata": {},
   "source": [
    "Un loop for su un dizionario effettua il loop sulle chiavi del dizionario, ad esempio:"
   ]
  },
  {
   "cell_type": "code",
   "execution_count": 40,
   "metadata": {
    "tags": []
   },
   "outputs": [
    {
     "name": "stdout",
     "output_type": "stream",
     "text": [
      "uno = 0\n",
      "due = 2\n",
      "tre = 3\n",
      "quattro = 4\n"
     ]
    }
   ],
   "source": [
    "for k in numeri:\n",
    "    print(\"{} = {}\".format(k, numeri[k]))"
   ]
  },
  {
   "cell_type": "markdown",
   "metadata": {},
   "source": [
    "È possibile accedere direttamente a tutte le chiavi o a tutti i valori di un dizionario attraverso i seguenti metodi dell'oggetto dizionario **dict.keys()** e **dict.values()**."
   ]
  },
  {
   "cell_type": "code",
   "execution_count": 41,
   "metadata": {},
   "outputs": [
    {
     "data": {
      "text/plain": [
       "dict_keys(['uno', 'due', 'tre', 'quattro'])"
      ]
     },
     "execution_count": 41,
     "metadata": {},
     "output_type": "execute_result"
    }
   ],
   "source": [
    "numeri.keys()"
   ]
  },
  {
   "cell_type": "code",
   "execution_count": 42,
   "metadata": {},
   "outputs": [
    {
     "data": {
      "text/plain": [
       "dict_values([0, 2, 3, 4])"
      ]
     },
     "execution_count": 42,
     "metadata": {},
     "output_type": "execute_result"
    }
   ],
   "source": [
    "numeri.values()"
   ]
  },
  {
   "cell_type": "markdown",
   "metadata": {},
   "source": [
    "Uno dei metodi più utili quando si usano i dizionari è **dict.items()**, questo metodo ci permette di iteerare le chiavi e i valori di un dizionario simultaneamente."
   ]
  },
  {
   "cell_type": "code",
   "execution_count": 43,
   "metadata": {
    "tags": []
   },
   "outputs": [
    {
     "name": "stdout",
     "output_type": "stream",
     "text": [
      "  Mercurio inizia con 'M'\n",
      "    Venere inizia con 'V'\n",
      "     Terra inizia con 'T'\n",
      "     Marte inizia con 'M'\n",
      "     Giove inizia con 'G'\n",
      "   Saturno inizia con 'S'\n",
      "     Urano inizia con 'U'\n",
      "   Nettuno inizia con 'N'\n",
      "   Plutone inizia con 'P'\n"
     ]
    }
   ],
   "source": [
    "for pianeta, iniziale_pianeta in pianeta_iniziale.items():\n",
    "    print(\"{} inizia con '{}'\".format(pianeta.rjust(10), iniziale_pianeta))"
   ]
  },
  {
   "cell_type": "markdown",
   "metadata": {},
   "source": [
    "<a id='section7'></a>\n",
    "## 7) Le librerie esterne"
   ]
  },
  {
   "cell_type": "markdown",
   "metadata": {},
   "source": [
    "Una delle qualità principali di Python è l'elevato numero di librerie personalizzate che sono state scritte per questo linguaggio di programmazione. Alcune di queste librerie sono *standard*, ovvero possono essere trovate in qualsiasi Python; tuttavia le librerie che non sono comprese di default in Python possono essere facilmente richiamate attraverso la parola chiave **import**. <br>\n",
    "Importiamo la libreria *math* così come abbiamo fatto nel primo script di questo notebook."
   ]
  },
  {
   "cell_type": "code",
   "execution_count": 44,
   "metadata": {
    "tags": []
   },
   "outputs": [
    {
     "name": "stdout",
     "output_type": "stream",
     "text": [
      "Math è di questo tipo: <class 'module'>\n"
     ]
    }
   ],
   "source": [
    "import math\n",
    "\n",
    "print(\"Math è di questo tipo: {}\".format(type(math)))"
   ]
  },
  {
   "cell_type": "markdown",
   "metadata": {},
   "source": [
    "Math è un modulo, ovvero una collezione di variabili definite da qualcun altro. È possibile osservare tutte le variabili contenute in Math utilizzando la funzione **dir()**."
   ]
  },
  {
   "cell_type": "code",
   "execution_count": 45,
   "metadata": {
    "tags": []
   },
   "outputs": [
    {
     "name": "stdout",
     "output_type": "stream",
     "text": [
      "['__doc__', '__file__', '__loader__', '__name__', '__package__', '__spec__', 'acos', 'acosh', 'asin', 'asinh', 'atan', 'atan2', 'atanh', 'ceil', 'comb', 'copysign', 'cos', 'cosh', 'degrees', 'dist', 'e', 'erf', 'erfc', 'exp', 'expm1', 'fabs', 'factorial', 'floor', 'fmod', 'frexp', 'fsum', 'gamma', 'gcd', 'hypot', 'inf', 'isclose', 'isfinite', 'isinf', 'isnan', 'isqrt', 'lcm', 'ldexp', 'lgamma', 'log', 'log10', 'log1p', 'log2', 'modf', 'nan', 'nextafter', 'perm', 'pi', 'pow', 'prod', 'radians', 'remainder', 'sin', 'sinh', 'sqrt', 'tan', 'tanh', 'tau', 'trunc', 'ulp']\n"
     ]
    }
   ],
   "source": [
    "print(dir(math))"
   ]
  },
  {
   "cell_type": "code",
   "execution_count": 46,
   "metadata": {
    "tags": []
   },
   "outputs": [
    {
     "name": "stdout",
     "output_type": "stream",
     "text": [
      "I primi quattro numeri del pi-quadro sono = 3.142\n"
     ]
    }
   ],
   "source": [
    "print(\"I primi quattro numeri del pi-quadro sono = {:.4}\".format(math.pi))"
   ]
  },
  {
   "cell_type": "code",
   "execution_count": 47,
   "metadata": {},
   "outputs": [
    {
     "data": {
      "text/plain": [
       "5.0"
      ]
     },
     "execution_count": 47,
     "metadata": {},
     "output_type": "execute_result"
    }
   ],
   "source": [
    "math.log(32,2)"
   ]
  },
  {
   "cell_type": "code",
   "execution_count": 48,
   "metadata": {
    "tags": []
   },
   "outputs": [
    {
     "name": "stdout",
     "output_type": "stream",
     "text": [
      "Help on built-in function log in module math:\n",
      "\n",
      "log(...)\n",
      "    log(x, [base=math.e])\n",
      "    Return the logarithm of x to the given base.\n",
      "    \n",
      "    If the base not specified, returns the natural logarithm (base e) of x.\n",
      "\n"
     ]
    }
   ],
   "source": [
    "help(math.log)"
   ]
  },
  {
   "cell_type": "markdown",
   "metadata": {},
   "source": [
    "Come abbiamo accennato all'inizio di questo notebook, quando si importa una libreria è possibile assegnarle un nome abbreviato per poterlo riusare nel codice."
   ]
  },
  {
   "cell_type": "code",
   "execution_count": 49,
   "metadata": {},
   "outputs": [
    {
     "data": {
      "text/plain": [
       "3.141592653589793"
      ]
     },
     "execution_count": 49,
     "metadata": {},
     "output_type": "execute_result"
    }
   ],
   "source": [
    "import math as mt\n",
    "mt.pi"
   ]
  },
  {
   "cell_type": "markdown",
   "metadata": {},
   "source": [
    "È possibile importare anche solo una particolare variabile contenuta all'interno della libreria senza dover importarsi tutta la libreria, in questo caso potremmo usare la seguente notazione:"
   ]
  },
  {
   "cell_type": "code",
   "execution_count": 50,
   "metadata": {
    "tags": []
   },
   "outputs": [
    {
     "name": "stdout",
     "output_type": "stream",
     "text": [
      "3.141592653589793\n"
     ]
    }
   ],
   "source": [
    "from math import pi\n",
    "print(pi)"
   ]
  },
  {
   "cell_type": "code",
   "execution_count": 51,
   "metadata": {},
   "outputs": [
    {
     "ename": "TypeError",
     "evalue": "return arrays must be of ArrayType",
     "output_type": "error",
     "traceback": [
      "\u001b[0;31m---------------------------------------------------------------------------\u001b[0m",
      "\u001b[0;31mTypeError\u001b[0m                                 Traceback (most recent call last)",
      "Cell \u001b[0;32mIn[51], line 3\u001b[0m\n\u001b[1;32m      1\u001b[0m \u001b[38;5;28;01mfrom\u001b[39;00m \u001b[38;5;21;01mmath\u001b[39;00m \u001b[38;5;28;01mimport\u001b[39;00m \u001b[38;5;241m*\u001b[39m\n\u001b[1;32m      2\u001b[0m \u001b[38;5;28;01mfrom\u001b[39;00m \u001b[38;5;21;01mnumpy\u001b[39;00m \u001b[38;5;28;01mimport\u001b[39;00m \u001b[38;5;241m*\u001b[39m\n\u001b[0;32m----> 3\u001b[0m \u001b[38;5;28mprint\u001b[39m(pi, \u001b[43mlog\u001b[49m\u001b[43m(\u001b[49m\u001b[38;5;241;43m32\u001b[39;49m\u001b[43m,\u001b[49m\u001b[38;5;241;43m2\u001b[39;49m\u001b[43m)\u001b[49m)\n",
      "\u001b[0;31mTypeError\u001b[0m: return arrays must be of ArrayType"
     ]
    }
   ],
   "source": [
    "from math import *\n",
    "from numpy import *\n",
    "print(pi, log(32,2))"
   ]
  },
  {
   "cell_type": "markdown",
   "metadata": {},
   "source": [
    "In questo caso abbiamo riscontrato un errore poichè la variabile **log** è contenuta sia nella libreria *math* che nella *numpy*, ma ha differenti input. Poichè abbiamo importato anche la libreria *numpy* in questo caso il log di quest'ultima libreria ha sovrascritto il log della libreria math.<br>\n",
    "Un modo per risolvere il problema di prima è importare solamente ciò che vogliamo davvero usare, ad esempio:"
   ]
  },
  {
   "cell_type": "code",
   "execution_count": 52,
   "metadata": {
    "tags": []
   },
   "outputs": [
    {
     "name": "stdout",
     "output_type": "stream",
     "text": [
      "3.141592653589793 5.0\n"
     ]
    }
   ],
   "source": [
    "from math import log, pi\n",
    "from numpy import asarray\n",
    "print(pi, log(32,2))"
   ]
  },
  {
   "cell_type": "markdown",
   "metadata": {},
   "source": [
    "In generale, se incontriamo degli oggetti di Python che non conosciamo possiamo utilizzare tre funzioni pre-impostate di Python:<br>\n",
    "- **type()** : ci dice cos'è l'oggetto;\n",
    "- **dir()**: ci dice cosa può fare l'oggetto;\n",
    "- **help()**: ci dice più in dettaglio i metodi associati all'oggetto e le loro funzionalità"
   ]
  },
  {
   "cell_type": "markdown",
   "metadata": {},
   "source": [
    "[Clicca qui per tornare all'inizio della pagina](#start)<a id='start'></a>"
   ]
  }
 ],
 "metadata": {
  "kernelspec": {
   "display_name": "Python 3 (ipykernel)",
   "language": "python",
   "name": "python3"
  },
  "language_info": {
   "codemirror_mode": {
    "name": "ipython",
    "version": 3
   },
   "file_extension": ".py",
   "mimetype": "text/x-python",
   "name": "python",
   "nbconvert_exporter": "python",
   "pygments_lexer": "ipython3",
   "version": "3.10.6"
  },
  "nbTranslate": {
   "displayLangs": [
    "*"
   ],
   "hotkey": "alt-t",
   "langInMainMenu": true,
   "sourceLang": "en",
   "targetLang": "fr",
   "useGoogleTranslate": true
  }
 },
 "nbformat": 4,
 "nbformat_minor": 2
}
