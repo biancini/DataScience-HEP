{
 "cells": [
  {
   "cell_type": "markdown",
   "metadata": {},
   "source": [
    "# Lezione 1 - Esercizi\n",
    "\n",
    "#### Prendiamo dimestichezza con Python dentro al Jupyter Notebook e con le librerie per fare grafici.\n",
    "\n",
    "Provate a svolgere i seguenti esercizi: <br>\n",
    "1) [Fattoriale](#section1)<a href='#section1'></a> <br>\n",
    "2) [Serie di Fibonacci](#section2)<a href='#section2'></a><br>\n",
    "3) [Esempio di Plot](#section3)<a href='#section3'></a> <br>\n",
    "4) [Esercizio di Plot di un file root](#section4)<a href='#section4'></a> <br>\n",
    "5) [Metodo di Eulero](#section5)<a href='#section5'></a> <br>\n",
    "6) [Fit di curve lineari](#section6)<a href='#section6'></a>"
   ]
  },
  {
   "cell_type": "markdown",
   "metadata": {},
   "source": [
    "<a id='section1'></a>\n",
    "## 1) Fattoriale"
   ]
  },
  {
   "cell_type": "markdown",
   "metadata": {},
   "source": [
    "Scrivere in Python una funzione fatt che calcola il fattoriale di un numero dato come parametro. <br>\n",
    "Se siete coraggiosi provate a scriverla ricorsiva!"
   ]
  },
  {
   "cell_type": "code",
   "execution_count": null,
   "metadata": {},
   "outputs": [],
   "source": []
  },
  {
   "cell_type": "markdown",
   "metadata": {},
   "source": [
    "<a id='section2'></a>\n",
    "## 2) Serie di Fibonacci"
   ]
  },
  {
   "cell_type": "markdown",
   "metadata": {},
   "source": [
    "Scrivere una funzione Python che restituisce i primi n numeri della serie di Fibonacci."
   ]
  },
  {
   "cell_type": "code",
   "execution_count": null,
   "metadata": {},
   "outputs": [],
   "source": []
  },
  {
   "cell_type": "markdown",
   "metadata": {},
   "source": [
    "<a id='section3'></a>\n",
    "## 3) Esempio di plot"
   ]
  },
  {
   "cell_type": "markdown",
   "metadata": {},
   "source": [
    "Per fare dei grafici è possibile utilizzare la libreria `matplotlib`."
   ]
  },
  {
   "cell_type": "code",
   "execution_count": 4,
   "metadata": {},
   "outputs": [],
   "source": [
    "import numpy as np\n",
    "import matplotlib.pyplot as plt"
   ]
  },
  {
   "cell_type": "code",
   "execution_count": 5,
   "metadata": {},
   "outputs": [
    {
     "name": "stdout",
     "output_type": "stream",
     "text": [
      "Help on function linspace in module numpy:\n",
      "\n",
      "linspace(start, stop, num=50, endpoint=True, retstep=False, dtype=None, axis=0)\n",
      "    Return evenly spaced numbers over a specified interval.\n",
      "    \n",
      "    Returns `num` evenly spaced samples, calculated over the\n",
      "    interval [`start`, `stop`].\n",
      "    \n",
      "    The endpoint of the interval can optionally be excluded.\n",
      "    \n",
      "    .. versionchanged:: 1.16.0\n",
      "        Non-scalar `start` and `stop` are now supported.\n",
      "    \n",
      "    Parameters\n",
      "    ----------\n",
      "    start : array_like\n",
      "        The starting value of the sequence.\n",
      "    stop : array_like\n",
      "        The end value of the sequence, unless `endpoint` is set to False.\n",
      "        In that case, the sequence consists of all but the last of ``num + 1``\n",
      "        evenly spaced samples, so that `stop` is excluded.  Note that the step\n",
      "        size changes when `endpoint` is False.\n",
      "    num : int, optional\n",
      "        Number of samples to generate. Default is 50. Must be non-negative.\n",
      "    endpoint : bool, optional\n",
      "        If True, `stop` is the last sample. Otherwise, it is not included.\n",
      "        Default is True.\n",
      "    retstep : bool, optional\n",
      "        If True, return (`samples`, `step`), where `step` is the spacing\n",
      "        between samples.\n",
      "    dtype : dtype, optional\n",
      "        The type of the output array.  If `dtype` is not given, infer the data\n",
      "        type from the other input arguments.\n",
      "    \n",
      "        .. versionadded:: 1.9.0\n",
      "    \n",
      "    axis : int, optional\n",
      "        The axis in the result to store the samples.  Relevant only if start\n",
      "        or stop are array-like.  By default (0), the samples will be along a\n",
      "        new axis inserted at the beginning. Use -1 to get an axis at the end.\n",
      "    \n",
      "        .. versionadded:: 1.16.0\n",
      "    \n",
      "    Returns\n",
      "    -------\n",
      "    samples : ndarray\n",
      "        There are `num` equally spaced samples in the closed interval\n",
      "        ``[start, stop]`` or the half-open interval ``[start, stop)``\n",
      "        (depending on whether `endpoint` is True or False).\n",
      "    step : float, optional\n",
      "        Only returned if `retstep` is True\n",
      "    \n",
      "        Size of spacing between samples.\n",
      "    \n",
      "    \n",
      "    See Also\n",
      "    --------\n",
      "    arange : Similar to `linspace`, but uses a step size (instead of the\n",
      "             number of samples).\n",
      "    geomspace : Similar to `linspace`, but with numbers spaced evenly on a log\n",
      "                scale (a geometric progression).\n",
      "    logspace : Similar to `geomspace`, but with the end points specified as\n",
      "               logarithms.\n",
      "    \n",
      "    Examples\n",
      "    --------\n",
      "    >>> np.linspace(2.0, 3.0, num=5)\n",
      "    array([2.  , 2.25, 2.5 , 2.75, 3.  ])\n",
      "    >>> np.linspace(2.0, 3.0, num=5, endpoint=False)\n",
      "    array([2. ,  2.2,  2.4,  2.6,  2.8])\n",
      "    >>> np.linspace(2.0, 3.0, num=5, retstep=True)\n",
      "    (array([2.  ,  2.25,  2.5 ,  2.75,  3.  ]), 0.25)\n",
      "    \n",
      "    Graphical illustration:\n",
      "    \n",
      "    >>> import matplotlib.pyplot as plt\n",
      "    >>> N = 8\n",
      "    >>> y = np.zeros(N)\n",
      "    >>> x1 = np.linspace(0, 10, N, endpoint=True)\n",
      "    >>> x2 = np.linspace(0, 10, N, endpoint=False)\n",
      "    >>> plt.plot(x1, y, 'o')\n",
      "    [<matplotlib.lines.Line2D object at 0x...>]\n",
      "    >>> plt.plot(x2, y + 0.5, 'o')\n",
      "    [<matplotlib.lines.Line2D object at 0x...>]\n",
      "    >>> plt.ylim([-0.5, 1])\n",
      "    (-0.5, 1)\n",
      "    >>> plt.show()\n",
      "\n"
     ]
    }
   ],
   "source": [
    "help(np.linspace)"
   ]
  },
  {
   "cell_type": "code",
   "execution_count": 6,
   "metadata": {},
   "outputs": [],
   "source": []
  },
  {
   "cell_type": "markdown",
   "metadata": {},
   "source": [
    "<a id='section4'></a>\n",
    "## 4) Esercizio di Plot di un file root"
   ]
  },
  {
   "cell_type": "markdown",
   "metadata": {},
   "source": [
    "In questo esercizio utilizzeremo anche una libreria aggiuntiva che si chiama `uproot` e che serve a leggere i files in formato root."
   ]
  },
  {
   "cell_type": "code",
   "execution_count": 9,
   "metadata": {},
   "outputs": [
    {
     "name": "stdout",
     "output_type": "stream",
     "text": [
      "Requirement already satisfied: uproot in /opt/anaconda3/envs/jupyter/lib/python3.8/site-packages (4.0.1)\n",
      "Requirement already satisfied: numpy in /opt/anaconda3/envs/jupyter/lib/python3.8/site-packages (from uproot) (1.19.1)\n"
     ]
    }
   ],
   "source": [
    "!pip install uproot"
   ]
  },
  {
   "cell_type": "code",
   "execution_count": 10,
   "metadata": {},
   "outputs": [
    {
     "name": "stdout",
     "output_type": "stream",
     "text": [
      "         f_mass4l     f_massjj\n",
      "0       91.098129  -999.000000\n",
      "1      201.847610  -999.000000\n",
      "2       89.279076  -999.000000\n",
      "3      586.597412  1353.025513\n",
      "4      135.589798  -999.000000\n",
      "...           ...          ...\n",
      "58102   89.582817  -999.000000\n",
      "58103  252.845184  -999.000000\n",
      "58104   90.129845  -999.000000\n",
      "58105  250.977417  -999.000000\n",
      "58106  229.470154  -999.000000\n",
      "\n",
      "[58107 rows x 2 columns]\n"
     ]
    }
   ],
   "source": [
    "import uproot\n",
    "import numpy as np\n",
    "import pandas as pd\n",
    "import matplotlib.pyplot as plt\n",
    "%matplotlib inline\n",
    "\n",
    "treename = 'HZZ4LeptonsAnalysisReduced'\n",
    "filename ='data/ntuple_4mu_bkg.root'\n",
    "VARS = ['f_mass4l', 'f_massjj']\n",
    "\n",
    "upfile = uproot.open(filename)\n",
    "params = upfile[treename].arrays(VARS)\n",
    "\n",
    "df = pd.DataFrame(params.tolist())\n",
    "print (df)"
   ]
  },
  {
   "cell_type": "markdown",
   "metadata": {},
   "source": [
    "Proviamo ora a plottare questi dati."
   ]
  },
  {
   "cell_type": "code",
   "execution_count": null,
   "metadata": {},
   "outputs": [],
   "source": []
  },
  {
   "cell_type": "markdown",
   "metadata": {},
   "source": [
    "<a id='section5'></a>\n",
    "## 5) Metodo di Eulero"
   ]
  },
  {
   "cell_type": "markdown",
   "metadata": {},
   "source": [
    "Cominciamo con le equazioni differenziali per la caduta libera:\n",
    "\n",
    "$$v = \\frac{dx}{dt} \\qquad a = \\frac{dv}{dt}$$\n",
    "\n",
    "dove $a$ è una costante. Possiamo riorganizzare queste equazioni:\n",
    "\n",
    "$$dx = v \\; dt \\qquad dv = a \\; dt$$\n",
    "\n",
    "Ricordati cosa significano $dx$, $dt$ e $dv$: questi sono i cambiamenti infinitesimi di posizione, tempo e velocità. Questa forma delle equazioni suggerisce un possibile modo di approssimare la soluzione alle equazioni differenziali: prendere piccoli passi di tempo $dt$ e calcolare la nuova $x$ e $v$ per ogni fase temporale.\n",
    "\n",
    "$$x_{new} = x_{old} + v \\; dt \\qquad v_{new} = v_{old} + a \\; dt$$\n",
    "\n",
    "Questo è chiamato \"metodo di Eulero\". Dobbiamo compiere piccoli passi per ottenere una buona soluzione, il che significa che dobbiamo compiere molti passi per arrivare ovunque. Ecco a cosa serve il computer: fare tutti quei calcoli noiosi! Ecco un po 'di codice di esempio. Non provare a inserirlo in una console Python una riga alla volta: inseriscilo in un nuovo file di testo, salvalo ed eseguilo come programma."
   ]
  },
  {
   "cell_type": "code",
   "execution_count": null,
   "metadata": {},
   "outputs": [],
   "source": []
  },
  {
   "cell_type": "markdown",
   "metadata": {},
   "source": [
    "<a id='section6'></a>\n",
    "## 6) Fit di curve lineare"
   ]
  },
  {
   "cell_type": "markdown",
   "metadata": {},
   "source": [
    "È spesso il caso nei laboratori di fisica introduttiva (e in Advanced Physics Labs!) Che abbiamo un set di dati e un modello teorico per i dati, e vorremmo trovare i parametri del modello che rendono il modello più adatto al set di dati.\n",
    "\n",
    "Ad esempio, uno studente del mio laboratorio stava recentemente lavorando a un sensore che avrebbe dovuto tracciare la posizione angolare di un magnete rotante, ma sembrava che il sensore fosse calibrato male. Era difficile dirlo con certezza, tuttavia, poiché il sensore (se funzionava correttamente) riportava la posizione in unità di $\\frac{1}{1024}^{ths}$ di una rivoluzione, e non era affatto spento se lo era affatto. Lo spostamento manuale del magnete non era sufficientemente preciso per determinare se l'errore di calibrazione fosse reale e se fosse reale se fosse coerente.\n",
    "\n",
    "Per indagare ulteriormente sul sistema, ha registrato la posizione del magnete riportata dal sensore ad ogni rotazione, per 10 rotazioni. Poteva solo \"osservare\" le rotazioni, quindi i suoi dati non erano esatti ma era certamente entro 2 gradi (5,7 unità del sensore) di \"zero\" ogni volta. I suoi dati sono di seguito.\n",
    "\n",
    "| turns | position |\n",
    "|---|---|\n",
    "|0 | 0 |\n",
    "|1 | -2 |\n",
    "|2 | -11 |\n",
    "|3 | -15 |\n",
    "|4 | -24 |\n",
    "|5 | -32 |\n",
    "|6 | -40 |\n",
    "|7 | -50 |\n",
    "|8 | -52 |\n",
    "|9 | -62 |\n",
    "|10 | -65 |\n",
    "\n",
    "Sulla base di questi dati, potremmo dire che il sensore è stato calibrato male o è stato solo un errore casuale? Se è stato calibrato male, di quanto è stato calibrato male? In altre parole, se il sensore doveva emettere 1024 impulsi per rotazione, quanti impulsi stava effettivamente emettendo per rotazione?\n",
    "\n",
    "Per rispondere a questa domanda, traccia i dati. I punti dati sono sparsi nella media o c'è una tendenza definita? La tendenza è lineare? Se i dati sono lineari, qual è la pendenza? Quanti impulsi per giro generava realmente il sensore?\n",
    "\n",
    "Metti i dati in due elenchi Python:\n",
    "\n",
    "``\n",
    "turns = [0, 1, 2, 3, ... 10]\n",
    "position = [0, -2, -11, ... -65]\n",
    "``\n",
    "\n",
    "La funzione `polyfit()` in python esegue l'adattamento della curva dei polinomi, inclusi i polinomi del primo ordine (lineari)."
   ]
  },
  {
   "cell_type": "code",
   "execution_count": null,
   "metadata": {},
   "outputs": [],
   "source": []
  },
  {
   "cell_type": "markdown",
   "metadata": {},
   "source": [
    "[Clicca qui per tornare all'inizio della pagina](#start)<a id='start'></a>"
   ]
  }
 ],
 "metadata": {
  "kernelspec": {
   "display_name": "Python 3",
   "language": "python",
   "name": "python3"
  },
  "language_info": {
   "codemirror_mode": {
    "name": "ipython",
    "version": 3
   },
   "file_extension": ".py",
   "mimetype": "text/x-python",
   "name": "python",
   "nbconvert_exporter": "python",
   "pygments_lexer": "ipython3",
   "version": "3.8.6"
  }
 },
 "nbformat": 4,
 "nbformat_minor": 2
}
